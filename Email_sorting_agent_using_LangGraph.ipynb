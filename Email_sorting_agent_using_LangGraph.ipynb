{
  "cells": [
    {
      "cell_type": "markdown",
      "metadata": {
        "id": "view-in-github",
        "colab_type": "text"
      },
      "source": [
        "<a href=\"https://colab.research.google.com/github/vishnuvardhan833199/ML-Projects/blob/main/Email_sorting_agent_using_LangGraph.ipynb\" target=\"_parent\"><img src=\"https://colab.research.google.com/assets/colab-badge.svg\" alt=\"Open In Colab\"/></a>"
      ]
    },
    {
      "metadata": {
        "id": "b2iV-jAAIPrv"
      },
      "cell_type": "markdown",
      "source": [
        "# Email Sorting: A LangGraph Example\n",
        "\n",
        "In this notebook, **we're going to build a complete email processing workflow using LangGraph**.\n",
        "\n",
        "## What You'll Learn\n",
        "\n",
        "In this notebook, you'll learn how to:\n",
        "1. Set up a LangGraph workflow\n",
        "2. Define state and nodes for email processing\n",
        "3. Create conditional branching in a graph\n",
        "4. Connect an LLM for classification and content generation\n",
        "5. Visualize the workflow graph\n",
        "6. Execute the workflow with example data"
      ]
    },
    {
      "metadata": {
        "id": "-JTO5laNIPry"
      },
      "cell_type": "code",
      "outputs": [],
      "execution_count": null,
      "source": [
        "# Install the required packages\n",
        "%pip install -q langgraph langchain_openai langchain_huggingface"
      ]
    },
    {
      "metadata": {
        "id": "RB-0o07IIPrz"
      },
      "cell_type": "markdown",
      "source": [
        "## Setting Up Our Environment\n",
        "\n",
        "First, let's import all the necessary libraries. LangGraph provides the graph structure, while LangChain offers convenient interfaces for working with LLMs."
      ]
    },
    {
      "metadata": {
        "id": "3-cLpWnHIPrz"
      },
      "cell_type": "code",
      "outputs": [],
      "execution_count": null,
      "source": [
        "import os\n",
        "from typing import TypedDict, List, Dict, Any, Optional\n",
        "from langgraph.graph import StateGraph, START, END\n",
        "from langchain_openai import ChatOpenAI\n",
        "from langchain_core.messages import HumanMessage\n",
        "\n",
        "# Set your OpenAI API key here\n",
        "os.environ[\"OPENAI_API_KEY\"] = \"\"  # Replace with your actual API key\n",
        "\n",
        "# Initialize our LLM\n",
        "model = ChatOpenAI(model=\"gpt-4o\", temperature=0)"
      ]
    },
    {
      "metadata": {
        "id": "Sk_iLdn2IPr0"
      },
      "cell_type": "markdown",
      "source": [
        "## Step 1: Define Our State\n",
        "\n",
        "In LangGraph, **State** is the central concept. It represents all the information that flows through our workflow.\n",
        "\n",
        "For Alfred's email processing system, we need to track:\n",
        "- The email being processed\n",
        "- Whether it's spam or not\n",
        "- The draft response (for legitimate emails)\n",
        "- Conversation history with the LLM"
      ]
    },
    {
      "metadata": {
        "id": "00s6Xq4kIPr0"
      },
      "cell_type": "code",
      "outputs": [],
      "execution_count": null,
      "source": [
        "class EmailState(TypedDict):\n",
        "    email: Dict[str, Any]\n",
        "    is_spam: Optional[bool]\n",
        "    spam_reason: Optional[str]\n",
        "    email_category: Optional[str]\n",
        "    email_draft: Optional[str]\n",
        "    messages: List[Dict[str, Any]]"
      ]
    },
    {
      "metadata": {
        "id": "zY6pza4pIPr0"
      },
      "cell_type": "markdown",
      "source": [
        "## Step 2: Define Our Nodes"
      ]
    },
    {
      "metadata": {
        "id": "CN8zYaxpIPr0",
        "colab": {
          "base_uri": "https://localhost:8080/"
        },
        "outputId": "8240ae42-2e4e-47ee-fb51-e822abebac99"
      },
      "cell_type": "code",
      "outputs": [
        {
          "output_type": "execute_result",
          "data": {
            "text/plain": [
              "<langgraph.graph.state.StateGraph at 0x7a67cab50950>"
            ]
          },
          "metadata": {},
          "execution_count": 4
        }
      ],
      "execution_count": null,
      "source": [
        "def read_email(state: EmailState):\n",
        "    email = state[\"email\"]\n",
        "    print(f\"An AI Agent is processing an email from {email['sender']} with subject: {email['subject']}\")\n",
        "    return {}\n",
        "\n",
        "\n",
        "def classify_email(state: EmailState):\n",
        "    email = state[\"email\"]\n",
        "\n",
        "    prompt = f\"\"\"\n",
        "As a professional email reader, analyze this email and determine if it is spam or legitimate and should be brought to Dr. Raj's attention.\n",
        "\n",
        "Email:\n",
        "From: {email['sender']}\n",
        "Subject: {email['subject']}\n",
        "Body: {email['body']}\n",
        "\n",
        "First, determine if this email is spam.\n",
        "answer with SPAM or HAM if it's legitimate. Only return the answer\n",
        "Answer :\n",
        "    \"\"\"\n",
        "    messages = [HumanMessage(content=prompt)]\n",
        "    response = model.invoke(messages)\n",
        "\n",
        "    response_text = response.content.lower()\n",
        "    print(response_text)\n",
        "    is_spam = \"spam\" in response_text and \"ham\" not in response_text\n",
        "\n",
        "    if not is_spam:\n",
        "        new_messages = state.get(\"messages\", []) + [\n",
        "            {\"role\": \"user\", \"content\": prompt},\n",
        "            {\"role\": \"assistant\", \"content\": response.content}\n",
        "        ]\n",
        "    else:\n",
        "        new_messages = state.get(\"messages\", [])\n",
        "\n",
        "    return {\n",
        "        \"is_spam\": is_spam,\n",
        "        \"messages\": new_messages\n",
        "    }\n",
        "\n",
        "\n",
        "def handle_spam(state: EmailState):\n",
        "    print(f\"Alfred has marked the email as spam.\")\n",
        "    print(\"The email has been moved to the spam folder.\")\n",
        "    return {}\n",
        "\n",
        "\n",
        "def drafting_response(state: EmailState):\n",
        "    email = state[\"email\"]\n",
        "\n",
        "    prompt = f\"\"\"\n",
        "As an AI Agent, draft a polite preliminary response to this email.\n",
        "\n",
        "Email:\n",
        "From: {email['sender']}\n",
        "Subject: {email['subject']}\n",
        "Body: {email['body']}\n",
        "\n",
        "Draft a brief, professional response that Dr. Raj can review and personalize before sending.\n",
        "    \"\"\"\n",
        "\n",
        "    messages = [HumanMessage(content=prompt)]\n",
        "    response = model.invoke(messages)\n",
        "\n",
        "    new_messages = state.get(\"messages\", []) + [\n",
        "        {\"role\": \"user\", \"content\": prompt},\n",
        "        {\"role\": \"assistant\", \"content\": response.content}\n",
        "    ]\n",
        "\n",
        "    return {\n",
        "        \"email_draft\": response.content,\n",
        "        \"messages\": new_messages\n",
        "    }\n",
        "\n",
        "\n",
        "def notify_mr_wayne(state: EmailState):\n",
        "    email = state[\"email\"]\n",
        "\n",
        "    print(\"\\n\" + \"=\" * 50)\n",
        "    print(f\"Hello, I am your AI Agent. You have received an email from {email['sender']}.\")\n",
        "    print(f\"Subject: {email['subject']}\")\n",
        "    print(\"\\nI've prepared a draft response for your review:\")\n",
        "    print(\"-\" * 50)\n",
        "    print(state[\"email_draft\"])\n",
        "    print(\"=\" * 50 + \"\\n\")\n",
        "\n",
        "    return {}\n",
        "\n",
        "\n",
        "# Define routing logic\n",
        "def route_email(state: EmailState) -> str:\n",
        "    if state[\"is_spam\"]:\n",
        "        return \"spam\"\n",
        "    else:\n",
        "        return \"legitimate\"\n",
        "\n",
        "\n",
        "# Create the graph\n",
        "email_graph = StateGraph(EmailState)\n",
        "\n",
        "# Add nodes\n",
        "email_graph.add_node(\"read_email\", read_email)  # the read_email node executes the read_mail function\n",
        "email_graph.add_node(\"classify_email\", classify_email)  # the classify_email node will execute the classify_email function\n",
        "email_graph.add_node(\"handle_spam\", handle_spam)  #same logic\n",
        "email_graph.add_node(\"drafting_response\", drafting_response)  #same logic\n",
        "email_graph.add_node(\"notify_mr_wayne\", notify_mr_wayne)  # same logic\n"
      ]
    },
    {
      "metadata": {
        "id": "PizlJXErIPr1"
      },
      "cell_type": "markdown",
      "source": [
        "## Step 3: Define Our Routing Logic"
      ]
    },
    {
      "metadata": {
        "id": "NF-9NuOeIPr1",
        "colab": {
          "base_uri": "https://localhost:8080/"
        },
        "outputId": "4423f638-2c9b-4eea-bf1f-1ba4b7e55813"
      },
      "cell_type": "code",
      "outputs": [
        {
          "output_type": "execute_result",
          "data": {
            "text/plain": [
              "<langgraph.graph.state.StateGraph at 0x7a67cab50950>"
            ]
          },
          "metadata": {},
          "execution_count": 5
        }
      ],
      "execution_count": null,
      "source": [
        "# Add edges\n",
        "\n",
        "email_graph.add_edge(START, \"read_email\")  # After starting we go to the \"read_email\" node\n",
        "\n",
        "email_graph.add_edge(\"read_email\", \"classify_email\")  # after_reading we classify\n",
        "\n",
        "# Add conditional edges\n",
        "email_graph.add_conditional_edges(\n",
        "    \"classify_email\",  # after classify, we run the \"route_email\" function\"\n",
        "    route_email,\n",
        "    {\n",
        "        \"spam\": \"handle_spam\",  # if it return \"Spam\", we go the \"handle_span\" node\n",
        "        \"legitimate\": \"drafting_response\"  # and if it's legitimate, we go to the \"drafting response\" node\n",
        "    }\n",
        ")\n",
        "\n",
        "# Add final edges\n",
        "email_graph.add_edge(\"handle_spam\", END)  # after handling spam we always end\n",
        "email_graph.add_edge(\"drafting_response\", \"notify_mr_wayne\")\n",
        "email_graph.add_edge(\"notify_mr_wayne\", END)  # after notifyinf Me wayne, we can end  too\n"
      ]
    },
    {
      "metadata": {
        "id": "OyXIgKVRIPr1"
      },
      "cell_type": "markdown",
      "source": [
        "## Step 4: Create the StateGraph and Define Edges"
      ]
    },
    {
      "metadata": {
        "id": "xzOWGr6XIPr1"
      },
      "cell_type": "code",
      "outputs": [],
      "execution_count": null,
      "source": [
        "# Compile the graph\n",
        "compiled_graph = email_graph.compile()"
      ]
    },
    {
      "metadata": {
        "id": "M7JbBdQwIPr2",
        "colab": {
          "base_uri": "https://localhost:8080/",
          "height": 572
        },
        "outputId": "a0d05aad-b758-46ca-ff5b-750ae2db44db"
      },
      "cell_type": "code",
      "outputs": [
        {
          "output_type": "display_data",
          "data": {
            "image/png": "[encoded data removed]",
            "text/plain": [
              "<IPython.core.display.Image object>"
            ]
          },
          "metadata": {}
        }
      ],
      "execution_count": null,
      "source": [
        "from IPython.display import Image, display\n",
        "\n",
        "display(Image(compiled_graph.get_graph().draw_mermaid_png()))"
      ]
    },
    {
      "metadata": {
        "id": "Dhz9xZiWIPr2",
        "colab": {
          "base_uri": "https://localhost:8080/"
        },
        "outputId": "5478738c-ed6d-4ccc-c8ef-f2d49628f689"
      },
      "cell_type": "code",
      "outputs": [
        {
          "output_type": "stream",
          "name": "stdout",
          "text": [
            "\n",
            "Processing legitimate email...\n",
            "An AI Agent is processing an email from Cognizant AI with subject: Potential partnership ! \n",
            "ham\n",
            "\n",
            "==================================================\n",
            "Hello, I am your AI Agent. You have received an email from Cognizant AI.\n",
            "Subject: Potential partnership ! \n",
            "\n",
            "I've prepared a draft response for your review:\n",
            "--------------------------------------------------\n",
            "Subject: Re: Potential Partnership\n",
            "\n",
            "Dear [Name],\n",
            "\n",
            "Thank you for reaching out to us at Vizuara. We are excited about the possibility of exploring a partnership with Cognizant AI. Dr. Raj will review your proposal and we will get back to you shortly to discuss potential collaboration opportunities.\n",
            "\n",
            "In the meantime, please let us know your availability for a meeting, and we will do our best to accommodate.\n",
            "\n",
            "Looking forward to the possibility of working together.\n",
            "\n",
            "Best regards,\n",
            "\n",
            "[Your Name]  \n",
            "[Your Position]  \n",
            "Vizuara  \n",
            "==================================================\n",
            "\n",
            "\n",
            "Processing spam email...\n",
            "An AI Agent is processing an email from Crypto bro with subject: The best investment of 2025\n",
            "spam\n",
            "Alfred has marked the email as spam.\n",
            "The email has been moved to the spam folder.\n"
          ]
        }
      ],
      "execution_count": null,
      "source": [
        " # Example emails for testing\n",
        "legitimate_email = {\n",
        "    \"sender\": \"Cognizant AI\",\n",
        "    \"subject\": \"Potential partnership ! \",\n",
        "    \"body\": \"We would like to explore a potential partnership/collaboration with Vizuara. Do let us know a good time to reach you!\"\n",
        "}\n",
        "\n",
        "spam_email = {\n",
        "    \"sender\": \"Crypto bro\",\n",
        "    \"subject\": \"The best investment of 2025\",\n",
        "    \"body\": \"Mr Wayne, I just launched an ALT coin and want you to buy some !\"\n",
        "}\n",
        "# Process legitimate email\n",
        "print(\"\\nProcessing legitimate email...\")\n",
        "legitimate_result = compiled_graph.invoke({\n",
        "    \"email\": legitimate_email,\n",
        "    \"is_spam\": None,\n",
        "    \"spam_reason\": None,\n",
        "    \"email_category\": None,\n",
        "    \"email_draft\": None,\n",
        "    \"messages\": []\n",
        "})\n",
        "\n",
        "# Process spam email\n",
        "print(\"\\nProcessing spam email...\")\n",
        "spam_result = compiled_graph.invoke({\n",
        "    \"email\": spam_email,\n",
        "    \"is_spam\": None,\n",
        "    \"spam_reason\": None,\n",
        "    \"email_category\": None,\n",
        "    \"email_draft\": None,\n",
        "    \"messages\": []\n",
        "})"
      ]
    },
    {
      "metadata": {
        "id": "RuQDm34WIPr2"
      },
      "cell_type": "markdown",
      "source": [
        "## Step 5: Inspecting Our Mail Sorting Agent with Langfuse 📡\n",
        "\n",
        "As Alfred fine-tunes the Main Sorting Agent, he's growing weary of debugging its runs. Agents, by nature, are unpredictable and difficult to inspect. But since he aims to build the ultimate Spam Detection Agent and deploy it in production, he needs robust traceability for future monitoring and analysis.\n",
        "\n",
        "To do this, Alfred can use an observability tool such as [Langfuse](https://langfuse.com/) to trace and monitor the inner steps of the agent.\n",
        "\n",
        "First, we need to install the necessary dependencies:"
      ]
    },
    {
      "metadata": {
        "id": "7EvdsApMIPr2",
        "colab": {
          "base_uri": "https://localhost:8080/"
        },
        "outputId": "ca2b5124-ccda-45d0-8c0e-ebbc358c7e7f"
      },
      "cell_type": "code",
      "outputs": [
        {
          "output_type": "stream",
          "name": "stdout",
          "text": [
            "Requirement already satisfied: langfuse[langchain] in /usr/local/lib/python3.11/dist-packages (3.0.9)\n",
            "Requirement already satisfied: backoff>=1.10.0 in /usr/local/lib/python3.11/dist-packages (from langfuse[langchain]) (2.2.1)\n",
            "Requirement already satisfied: httpx<1.0,>=0.15.4 in /usr/local/lib/python3.11/dist-packages (from langfuse[langchain]) (0.28.1)\n",
            "Requirement already satisfied: langchain>=0.0.309 in /usr/local/lib/python3.11/dist-packages (from langfuse[langchain]) (0.3.26)\n",
            "Requirement already satisfied: opentelemetry-api<2.0.0,>=1.33.1 in /usr/local/lib/python3.11/dist-packages (from langfuse[langchain]) (1.34.1)\n",
            "Requirement already satisfied: opentelemetry-exporter-otlp<2.0.0,>=1.33.1 in /usr/local/lib/python3.11/dist-packages (from langfuse[langchain]) (1.34.1)\n",
            "Requirement already satisfied: opentelemetry-sdk<2.0.0,>=1.33.1 in /usr/local/lib/python3.11/dist-packages (from langfuse[langchain]) (1.34.1)\n",
            "Requirement already satisfied: packaging<25.0,>=23.2 in /usr/local/lib/python3.11/dist-packages (from langfuse[langchain]) (24.2)\n",
            "Requirement already satisfied: pydantic<3.0,>=1.10.7 in /usr/local/lib/python3.11/dist-packages (from langfuse[langchain]) (2.11.7)\n",
            "Requirement already satisfied: requests<3,>=2 in /usr/local/lib/python3.11/dist-packages (from langfuse[langchain]) (2.32.3)\n",
            "Requirement already satisfied: wrapt<2.0,>=1.14 in /usr/local/lib/python3.11/dist-packages (from langfuse[langchain]) (1.17.2)\n",
            "Requirement already satisfied: anyio in /usr/local/lib/python3.11/dist-packages (from httpx<1.0,>=0.15.4->langfuse[langchain]) (4.9.0)\n",
            "Requirement already satisfied: certifi in /usr/local/lib/python3.11/dist-packages (from httpx<1.0,>=0.15.4->langfuse[langchain]) (2025.6.15)\n",
            "Requirement already satisfied: httpcore==1.* in /usr/local/lib/python3.11/dist-packages (from httpx<1.0,>=0.15.4->langfuse[langchain]) (1.0.9)\n",
            "Requirement already satisfied: idna in /usr/local/lib/python3.11/dist-packages (from httpx<1.0,>=0.15.4->langfuse[langchain]) (3.10)\n",
            "Requirement already satisfied: h11>=0.16 in /usr/local/lib/python3.11/dist-packages (from httpcore==1.*->httpx<1.0,>=0.15.4->langfuse[langchain]) (0.16.0)\n",
            "Requirement already satisfied: langchain-core<1.0.0,>=0.3.66 in /usr/local/lib/python3.11/dist-packages (from langchain>=0.0.309->langfuse[langchain]) (0.3.67)\n",
            "Requirement already satisfied: langchain-text-splitters<1.0.0,>=0.3.8 in /usr/local/lib/python3.11/dist-packages (from langchain>=0.0.309->langfuse[langchain]) (0.3.8)\n",
            "Requirement already satisfied: langsmith>=0.1.17 in /usr/local/lib/python3.11/dist-packages (from langchain>=0.0.309->langfuse[langchain]) (0.4.1)\n",
            "Requirement already satisfied: SQLAlchemy<3,>=1.4 in /usr/local/lib/python3.11/dist-packages (from langchain>=0.0.309->langfuse[langchain]) (2.0.41)\n",
            "Requirement already satisfied: PyYAML>=5.3 in /usr/local/lib/python3.11/dist-packages (from langchain>=0.0.309->langfuse[langchain]) (6.0.2)\n",
            "Requirement already satisfied: importlib-metadata<8.8.0,>=6.0 in /usr/local/lib/python3.11/dist-packages (from opentelemetry-api<2.0.0,>=1.33.1->langfuse[langchain]) (8.7.0)\n",
            "Requirement already satisfied: typing-extensions>=4.5.0 in /usr/local/lib/python3.11/dist-packages (from opentelemetry-api<2.0.0,>=1.33.1->langfuse[langchain]) (4.14.0)\n",
            "Requirement already satisfied: opentelemetry-exporter-otlp-proto-grpc==1.34.1 in /usr/local/lib/python3.11/dist-packages (from opentelemetry-exporter-otlp<2.0.0,>=1.33.1->langfuse[langchain]) (1.34.1)\n",
            "Requirement already satisfied: opentelemetry-exporter-otlp-proto-http==1.34.1 in /usr/local/lib/python3.11/dist-packages (from opentelemetry-exporter-otlp<2.0.0,>=1.33.1->langfuse[langchain]) (1.34.1)\n",
            "Requirement already satisfied: googleapis-common-protos~=1.52 in /usr/local/lib/python3.11/dist-packages (from opentelemetry-exporter-otlp-proto-grpc==1.34.1->opentelemetry-exporter-otlp<2.0.0,>=1.33.1->langfuse[langchain]) (1.70.0)\n",
            "Requirement already satisfied: grpcio<2.0.0,>=1.63.2 in /usr/local/lib/python3.11/dist-packages (from opentelemetry-exporter-otlp-proto-grpc==1.34.1->opentelemetry-exporter-otlp<2.0.0,>=1.33.1->langfuse[langchain]) (1.73.0)\n",
            "Requirement already satisfied: opentelemetry-exporter-otlp-proto-common==1.34.1 in /usr/local/lib/python3.11/dist-packages (from opentelemetry-exporter-otlp-proto-grpc==1.34.1->opentelemetry-exporter-otlp<2.0.0,>=1.33.1->langfuse[langchain]) (1.34.1)\n",
            "Requirement already satisfied: opentelemetry-proto==1.34.1 in /usr/local/lib/python3.11/dist-packages (from opentelemetry-exporter-otlp-proto-grpc==1.34.1->opentelemetry-exporter-otlp<2.0.0,>=1.33.1->langfuse[langchain]) (1.34.1)\n",
            "Requirement already satisfied: protobuf<6.0,>=5.0 in /usr/local/lib/python3.11/dist-packages (from opentelemetry-proto==1.34.1->opentelemetry-exporter-otlp-proto-grpc==1.34.1->opentelemetry-exporter-otlp<2.0.0,>=1.33.1->langfuse[langchain]) (5.29.5)\n",
            "Requirement already satisfied: opentelemetry-semantic-conventions==0.55b1 in /usr/local/lib/python3.11/dist-packages (from opentelemetry-sdk<2.0.0,>=1.33.1->langfuse[langchain]) (0.55b1)\n",
            "Requirement already satisfied: annotated-types>=0.6.0 in /usr/local/lib/python3.11/dist-packages (from pydantic<3.0,>=1.10.7->langfuse[langchain]) (0.7.0)\n",
            "Requirement already satisfied: pydantic-core==2.33.2 in /usr/local/lib/python3.11/dist-packages (from pydantic<3.0,>=1.10.7->langfuse[langchain]) (2.33.2)\n",
            "Requirement already satisfied: typing-inspection>=0.4.0 in /usr/local/lib/python3.11/dist-packages (from pydantic<3.0,>=1.10.7->langfuse[langchain]) (0.4.1)\n",
            "Requirement already satisfied: charset-normalizer<4,>=2 in /usr/local/lib/python3.11/dist-packages (from requests<3,>=2->langfuse[langchain]) (3.4.2)\n",
            "Requirement already satisfied: urllib3<3,>=1.21.1 in /usr/local/lib/python3.11/dist-packages (from requests<3,>=2->langfuse[langchain]) (2.4.0)\n",
            "Requirement already satisfied: zipp>=3.20 in /usr/local/lib/python3.11/dist-packages (from importlib-metadata<8.8.0,>=6.0->opentelemetry-api<2.0.0,>=1.33.1->langfuse[langchain]) (3.23.0)\n",
            "Requirement already satisfied: tenacity!=8.4.0,<10.0.0,>=8.1.0 in /usr/local/lib/python3.11/dist-packages (from langchain-core<1.0.0,>=0.3.66->langchain>=0.0.309->langfuse[langchain]) (8.5.0)\n",
            "Requirement already satisfied: jsonpatch<2.0,>=1.33 in /usr/local/lib/python3.11/dist-packages (from langchain-core<1.0.0,>=0.3.66->langchain>=0.0.309->langfuse[langchain]) (1.33)\n",
            "Requirement already satisfied: orjson<4.0.0,>=3.9.14 in /usr/local/lib/python3.11/dist-packages (from langsmith>=0.1.17->langchain>=0.0.309->langfuse[langchain]) (3.10.18)\n",
            "Requirement already satisfied: requests-toolbelt<2.0.0,>=1.0.0 in /usr/local/lib/python3.11/dist-packages (from langsmith>=0.1.17->langchain>=0.0.309->langfuse[langchain]) (1.0.0)\n",
            "Requirement already satisfied: zstandard<0.24.0,>=0.23.0 in /usr/local/lib/python3.11/dist-packages (from langsmith>=0.1.17->langchain>=0.0.309->langfuse[langchain]) (0.23.0)\n",
            "Requirement already satisfied: greenlet>=1 in /usr/local/lib/python3.11/dist-packages (from SQLAlchemy<3,>=1.4->langchain>=0.0.309->langfuse[langchain]) (3.2.3)\n",
            "Requirement already satisfied: sniffio>=1.1 in /usr/local/lib/python3.11/dist-packages (from anyio->httpx<1.0,>=0.15.4->langfuse[langchain]) (1.3.1)\n",
            "Requirement already satisfied: jsonpointer>=1.9 in /usr/local/lib/python3.11/dist-packages (from jsonpatch<2.0,>=1.33->langchain-core<1.0.0,>=0.3.66->langchain>=0.0.309->langfuse[langchain]) (3.0.0)\n"
          ]
        }
      ],
      "execution_count": null,
      "source": [
        "!pip install langfuse[langchain]\n"
      ]
    },
    {
      "metadata": {
        "id": "7zno6EefIPr2"
      },
      "cell_type": "markdown",
      "source": [
        "Next, we set the Langfuse API keys and host address as environment variables. You can get your Langfuse credentials by signing up for [Langfuse Cloud](https://cloud.langfuse.com) or [self-hosting Langfuse](https://langfuse.com/self-hosting)."
      ]
    },
    {
      "metadata": {
        "id": "arwBANvnIPr2"
      },
      "cell_type": "code",
      "outputs": [],
      "execution_count": null,
      "source": [
        "import os\n",
        "\n",
        "# Get keys for your project from the project settings page: https://cloud.langfuse.com\n",
        "os.environ[\"LANGFUSE_PUBLIC_KEY\"] = \"\"\n",
        "os.environ[\"LANGFUSE_SECRET_KEY\"] = \"\"\n",
        "#os.environ[\"LANGFUSE_HOST\"] = \"https://cloud.langfuse.com\"  # 🇪🇺 EU region\n",
        "os.environ[\"LANGFUSE_HOST\"] = \"https://us.cloud.langfuse.com\" # 🇺🇸 US region"
      ]
    },
    {
      "metadata": {
        "id": "12Z_bp-pIPr2"
      },
      "cell_type": "markdown",
      "source": [
        "Now, we configure the [Langfuse `callback_handler`](https://langfuse.com/docs/integrations/langchain/tracing#add-langfuse-to-your-langchain-application)."
      ]
    },
    {
      "metadata": {
        "id": "Y2YKZ7VLIPr2"
      },
      "cell_type": "code",
      "outputs": [],
      "execution_count": null,
      "source": [
        "from langfuse.langchain import CallbackHandler\n",
        "\n",
        "# Initialize Langfuse CallbackHandler for LangGraph/Langchain (tracing)\n",
        "langfuse_handler = CallbackHandler()"
      ]
    },
    {
      "metadata": {
        "id": "6FLgo-FuIPr3"
      },
      "cell_type": "markdown",
      "source": [
        "We then add `config={\"callbacks\": [langfuse_handler]}` to the invocation of the agents and run them again."
      ]
    },
    {
      "metadata": {
        "id": "YyXsPyE6IPr3",
        "colab": {
          "base_uri": "https://localhost:8080/"
        },
        "outputId": "bce24867-1b42-4bd3-cb92-2b5c99066cb7"
      },
      "cell_type": "code",
      "outputs": [
        {
          "output_type": "stream",
          "name": "stdout",
          "text": [
            "\n",
            "Processing legitimate email...\n",
            "An AI Agent is processing an email from Cognizant AI with subject: Potential partnership ! \n",
            "ham\n",
            "\n",
            "==================================================\n",
            "Hello, I am your AI Agent. You have received an email from Cognizant AI.\n",
            "Subject: Potential partnership ! \n",
            "\n",
            "I've prepared a draft response for your review:\n",
            "--------------------------------------------------\n",
            "Subject: Re: Potential Partnership\n",
            "\n",
            "Dear [Recipient's Name],\n",
            "\n",
            "Thank you for reaching out to us at Vizuara. We are excited about the possibility of collaborating with Cognizant AI and exploring potential partnership opportunities.\n",
            "\n",
            "Dr. Raj would be pleased to discuss this further. Could you please suggest a few convenient times for a call or meeting? We will do our best to accommodate your schedule.\n",
            "\n",
            "Looking forward to your response.\n",
            "\n",
            "Best regards,\n",
            "\n",
            "[Your Name]  \n",
            "[Your Position]  \n",
            "Vizuara\n",
            "==================================================\n",
            "\n",
            "\n",
            "Processing spam email...\n",
            "An AI Agent is processing an email from Crypto bro with subject: The best investment of 2025\n",
            "spam\n",
            "Alfred has marked the email as spam.\n",
            "The email has been moved to the spam folder.\n"
          ]
        }
      ],
      "execution_count": null,
      "source": [
        "# Process legitimate email\n",
        "print(\"\\nProcessing legitimate email...\")\n",
        "legitimate_result = compiled_graph.invoke(\n",
        "    input={\n",
        "        \"email\": legitimate_email,\n",
        "        \"is_spam\": None,\n",
        "        \"draft_response\": None,\n",
        "        \"messages\": []\n",
        "    },\n",
        "    config={\"callbacks\": [langfuse_handler]}\n",
        ")\n",
        "\n",
        "# Process spam email\n",
        "print(\"\\nProcessing spam email...\")\n",
        "spam_result = compiled_graph.invoke(\n",
        "    input={\n",
        "        \"email\": spam_email,\n",
        "        \"is_spam\": None,\n",
        "        \"draft_response\": None,\n",
        "        \"messages\": []\n",
        "    },\n",
        "    config={\"callbacks\": [langfuse_handler]}\n",
        ")"
      ]
    },
    {
      "metadata": {
        "id": "lYJWvgvKIPr3"
      },
      "cell_type": "markdown",
      "source": [
        "Alfred is now connected 🔌! The runs from LangGraph are being logged in Langfuse, giving him full visibility into the agent's behavior. With this setup, he's ready to revisit previous runs and refine his Mail Sorting Agent even further.\n",
        "\n",
        "![Example trace in Langfuse](https://langfuse.com/images/cookbook/huggingface-agent-course/langgraph-trace-legit.png)\n",
        "\n",
        "_[Public link to the trace with the legit email](https://cloud.langfuse.com/project/cloramnkj0002jz088vzn1ja4/traces/f5d6d72e-20af-4357-b232-af44c3728a7b?timestamp=2025-03-17T10%3A13%3A28.413Z&observation=6997ba69-043f-4f77-9445-700a033afba1)_\n",
        "\n",
        "![Example trace in Langfuse](https://langfuse.com/images/cookbook/huggingface-agent-course/langgraph-trace-spam.png)\n",
        "\n",
        "_[Public link to the trace with the spam email](https://langfuse.com/project/cloramnkj0002jz088vzn1ja4/traces/6e498053-fee4-41fd-b1ab-d534aca15f82?timestamp=2025-03-17T10%3A13%3A30.884Z&observation=84770fc8-4276-4720-914f-bf52738d44ba)_\n"
      ]
    }
  ],
  "metadata": {
    "kernelspec": {
      "display_name": "Python 3",
      "language": "python",
      "name": "python3"
    },
    "language_info": {
      "codemirror_mode": {
        "name": "ipython",
        "version": 3
      },
      "file_extension": ".py",
      "mimetype": "text/x-python",
      "name": "python",
      "nbconvert_exporter": "python",
      "pygments_lexer": "ipython3",
      "version": "3.13.2"
    },
    "colab": {
      "provenance": [],
      "include_colab_link": true
    }
  },
  "nbformat": 4,
  "nbformat_minor": 0
}